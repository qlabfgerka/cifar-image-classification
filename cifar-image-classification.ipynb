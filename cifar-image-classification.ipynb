{
 "cells": [
  {
   "cell_type": "code",
   "execution_count": null,
   "metadata": {},
   "outputs": [],
   "source": [
    "import matplotlib.pyplot as plt\n",
    "import numpy as np\n",
    "import torchmetrics\n",
    "import torch\n",
    "from torch import nn\n",
    "from torchvision import datasets\n",
    "from torchvision.transforms import ToTensor\n",
    "from pathlib import Path\n",
    "from timeit import default_timer as timer\n",
    "from tqdm.auto import tqdm\n",
    "\n",
    "torch.__version__"
   ]
  },
  {
   "cell_type": "code",
   "execution_count": null,
   "metadata": {},
   "outputs": [],
   "source": [
    "EPOCHS = 5\n",
    "LR = 1e-1\n",
    "BATCH_SIZE = 32\n",
    "\n",
    "MODEL_NAME = \"cifar_image_classification_model.pth\"\n",
    "MODEL_PATH = Path(\"models\")\n",
    "MODEL_PATH.mkdir(parents=True, exist_ok=True)\n",
    "MODEL_SAVE_PATH = MODEL_PATH / MODEL_NAME\n",
    "\n",
    "device = \"cuda\" if torch.cuda.is_available() else \"cpu\"\n",
    "\n",
    "EPOCHS, LR, BATCH_SIZE, device"
   ]
  },
  {
   "cell_type": "code",
   "execution_count": null,
   "metadata": {},
   "outputs": [],
   "source": [
    "def display_single_image(image: torch.Tensor, label: str) -> None:\n",
    "  plt.imshow(image)\n",
    "  plt.title(label)\n",
    "  plt.axis(False);"
   ]
  },
  {
   "cell_type": "code",
   "execution_count": null,
   "metadata": {},
   "outputs": [],
   "source": [
    "def display_random_images(dataset: datasets, class_names: list) -> None:\n",
    "  fig = plt.figure(figsize=(16, 16))\n",
    "  rows, cols = 4, 4\n",
    "\n",
    "  for i in range(1, rows * cols + 1):\n",
    "    random_idx = torch.randint(0, len(dataset), size=[1]).item()\n",
    "    img, label = dataset[random_idx]\n",
    "    \n",
    "    fig.add_subplot(rows, cols, i)\n",
    "    plt.imshow(img.permute(1, 2, 0))\n",
    "    plt.title(class_names[label])\n",
    "    plt.axis(False);"
   ]
  },
  {
   "cell_type": "code",
   "execution_count": null,
   "metadata": {},
   "outputs": [],
   "source": [
    "def train_step(\n",
    "  model: nn.Module,\n",
    "  dataloader: torch.utils.data.DataLoader,\n",
    "  loss_fn: nn.Module,\n",
    "  optimizer: torch.optim.Optimizer,\n",
    "  accuracy_metric: torchmetrics.Accuracy,\n",
    "  f1_metric: torchmetrics.F1Score,\n",
    "  precision_metric: torchmetrics.Precision,\n",
    "  recall_metric: torchmetrics.Recall\n",
    ") -> None:\n",
    "  train_loss = 0\n",
    "\n",
    "  model.train()\n",
    "  for batch_number, (X, y) in enumerate(dataloader):\n",
    "    X, y = X.to(device), y.to(device)\n",
    "\n",
    "    y_pred = model(X)\n",
    "\n",
    "    loss = loss_fn(y_pred, y)\n",
    "    train_loss += loss\n",
    "\n",
    "    accuracy_metric(y_pred, y)\n",
    "    f1_metric(y_pred, y)\n",
    "    precision_metric(y_pred, y)\n",
    "    recall_metric(y_pred, y)\n",
    "\n",
    "    optimizer.zero_grad()\n",
    "\n",
    "    loss.backward()\n",
    "\n",
    "    optimizer.step()\n",
    "\n",
    "    if batch_number % 100 == 0:\n",
    "      print(f\"Looked at {batch_number * len(X)}/{len(dataloader.dataset)} samples\")\n",
    "\n",
    "  train_loss /= len(dataloader)\n",
    "\n",
    "  print(f\"Train loss: {train_loss}\")\n",
    "  print(f\"Train accuracy: {accuracy_metric.compute()} \")\n",
    "  print(f\"Train F1: {f1_metric.compute()}\")\n",
    "  print(f\"Train precision: {precision_metric.compute()}\")\n",
    "  print(f\"Train recall: {recall_metric.compute()}\")\n",
    "\n",
    "  accuracy_metric.reset()\n",
    "  f1_metric.reset()\n",
    "  precision_metric.reset()\n",
    "  recall_metric.reset()"
   ]
  },
  {
   "cell_type": "code",
   "execution_count": null,
   "metadata": {},
   "outputs": [],
   "source": [
    "def test_step(\n",
    "  model: nn.Module,\n",
    "  dataloader: torch.utils.data.DataLoader,\n",
    "  loss_fn: nn.Module,\n",
    "  accuracy_metric: torchmetrics.Accuracy,\n",
    "  f1_metric: torchmetrics.F1Score,\n",
    "  precision_metric: torchmetrics.Precision,\n",
    "  recall_metric: torchmetrics.Recall\n",
    ") -> None:\n",
    "  test_loss = 0\n",
    "\n",
    "  model.eval()\n",
    "  with torch.inference_mode():\n",
    "    for (X, y) in dataloader:\n",
    "      X, y = X.to(device), y.to(device)\n",
    "\n",
    "      test_y_pred = model(X)\n",
    "\n",
    "      test_loss += loss_fn(test_y_pred, y)\n",
    "      accuracy_metric(test_y_pred, y)\n",
    "      f1_metric(test_y_pred, y)\n",
    "      precision_metric(test_y_pred, y)\n",
    "      recall_metric(test_y_pred, y)\n",
    "\n",
    "    test_loss /= len(dataloader)\n",
    "\n",
    "    print(f\"Test loss: {test_loss}\")\n",
    "    print(f\"Test accuracy: {accuracy_metric.compute()} \")\n",
    "    print(f\"Test F1: {f1_metric.compute()}\")\n",
    "    print(f\"Test precision: {precision_metric.compute()}\")\n",
    "    print(f\"Test recall: {recall_metric.compute()}\")\n",
    "\n",
    "    accuracy_metric.reset()\n",
    "    f1_metric.reset()\n",
    "    precision_metric.reset()\n",
    "    recall_metric.reset()"
   ]
  },
  {
   "cell_type": "code",
   "execution_count": null,
   "metadata": {},
   "outputs": [],
   "source": [
    "def eval_model(model: nn.Module, dataloader: torch.utils.data.DataLoader, loss_fn: nn.Module, class_amount: int, train_time: int = None, device: torch.device = device):\n",
    "  total_loss = 0\n",
    "\n",
    "  accuracy_metric = torchmetrics.Accuracy(task=\"multiclass\", num_classes=class_amount).to(device)\n",
    "  f1_metric = torchmetrics.F1Score(task=\"multiclass\", num_classes=class_amount).to(device)\n",
    "  precision_metric = torchmetrics.Precision(task=\"multiclass\", average=\"macro\", num_classes=class_amount).to(device)\n",
    "  recall_metric = torchmetrics.Recall(task=\"multiclass\", average=\"macro\", num_classes=class_amount).to(device)\n",
    "  \n",
    "  model.eval()\n",
    "  with torch.inference_mode():\n",
    "    for (X, y) in dataloader:\n",
    "      X, y = X.to(device), y.to(device)\n",
    "      y_pred = model(X)\n",
    "\n",
    "      total_loss += loss_fn(y_pred, y)\n",
    "\n",
    "      accuracy_metric(y_pred, y)\n",
    "      f1_metric(y_pred, y)\n",
    "      precision_metric(y_pred, y)\n",
    "      recall_metric(y_pred, y)\n",
    "\n",
    "    total_loss /= len(dataloader)\n",
    "\n",
    "  return {\n",
    "    \"model_name\": model.__class__.__name__,\n",
    "    \"model_loss\": total_loss.item(),\n",
    "    \"model_accuracy\": accuracy_metric.compute().item(),\n",
    "    \"model_f1\": f1_metric.compute().item(),\n",
    "    \"model_precision\": precision_metric.compute().item(),\n",
    "    \"model_recall\": recall_metric.compute().item(),\n",
    "    \"model_train_time\": train_time if train_time != None else \"no data\"\n",
    "  }"
   ]
  },
  {
   "cell_type": "code",
   "execution_count": null,
   "metadata": {},
   "outputs": [],
   "source": [
    "def train_model(model: nn.Module, train_dataloader: torch.utils.data.DataLoader, test_dataloader: torch.utils.data.DataLoader, loss_fn: nn.Module, optimizer: torch.optim.Optimizer, num_classes: int, device: torch.device = device):\n",
    "  train_accuracy_metric = torchmetrics.Accuracy(task=\"multiclass\", num_classes=num_classes).to(device)\n",
    "  train_f1_metric = torchmetrics.F1Score(task=\"multiclass\", num_classes=num_classes).to(device)\n",
    "  train_precision_metric = torchmetrics.Precision(task=\"multiclass\", average=\"macro\", num_classes=num_classes).to(device)\n",
    "  train_recall_metric = torchmetrics.Recall(task=\"multiclass\", average=\"macro\", num_classes=num_classes).to(device)\n",
    "\n",
    "  test_accuracy_metric = torchmetrics.Accuracy(task=\"multiclass\", num_classes=num_classes).to(device)\n",
    "  test_f1_metric = torchmetrics.F1Score(task=\"multiclass\", num_classes=num_classes).to(device)\n",
    "  test_precision_metric = torchmetrics.Precision(task=\"multiclass\", average=\"macro\", num_classes=num_classes).to(device)\n",
    "  test_recall_metric = torchmetrics.Recall(task=\"multiclass\", average=\"macro\", num_classes=num_classes).to(device)\n",
    "\n",
    "  torch.manual_seed(42)\n",
    "\n",
    "  start_time = timer()\n",
    "\n",
    "  for epoch in tqdm(range(EPOCHS)):\n",
    "    print(f\"Epoch: {epoch}\\n\")\n",
    "\n",
    "    train_step(model, train_dataloader, loss_fn, optimizer, train_accuracy_metric, train_f1_metric, train_precision_metric, train_recall_metric)\n",
    "    test_step(model, test_dataloader, loss_fn, test_accuracy_metric, test_f1_metric, test_precision_metric, test_recall_metric)\n",
    "\n",
    "    print(\"----------------------------\")\n",
    "\n",
    "  end_time = timer()\n",
    "\n",
    "  print(f\"\\nTotal training time: {end_time - start_time}s\")\n",
    "\n",
    "  return eval_model(model, test_dataloader, loss_fn, num_classes, end_time - start_time, device)"
   ]
  },
  {
   "cell_type": "code",
   "execution_count": null,
   "metadata": {},
   "outputs": [],
   "source": [
    "cifar_10_train_dataset = datasets.FashionMNIST(\n",
    "  root=\"data\",\n",
    "  train=True,\n",
    "  download=True,\n",
    "  transform=ToTensor(),\n",
    ")\n",
    "\n",
    "cifar_10_test_dataset = datasets.FashionMNIST(\n",
    "  root=\"data\",\n",
    "  train=False,\n",
    "  download=True,\n",
    "  transform=ToTensor(),\n",
    ")\n",
    "\n",
    "cifar_100_train_dataset = datasets.CIFAR100(\n",
    "  root=\"data\",\n",
    "  train=True,\n",
    "  download=True,\n",
    "  transform=ToTensor(),\n",
    ")\n",
    "\n",
    "cifar_100_test_dataset = datasets.CIFAR100(\n",
    "  root=\"data\",\n",
    "  train=False,\n",
    "  download=True,\n",
    "  transform=ToTensor(),\n",
    ")"
   ]
  },
  {
   "cell_type": "code",
   "execution_count": null,
   "metadata": {},
   "outputs": [],
   "source": [
    "temp_image, temp_label = cifar_10_train_dataset[0]\n",
    "\n",
    "temp_label, temp_image.shape"
   ]
  },
  {
   "cell_type": "code",
   "execution_count": null,
   "metadata": {},
   "outputs": [],
   "source": [
    "len(cifar_10_train_dataset), len(cifar_10_test_dataset), len(cifar_100_train_dataset), len(cifar_100_test_dataset)"
   ]
  },
  {
   "cell_type": "code",
   "execution_count": null,
   "metadata": {},
   "outputs": [],
   "source": [
    "cifar_10_class_names = cifar_10_train_dataset.classes\n",
    "cifar_100_class_names = cifar_100_train_dataset.classes\n",
    "\n",
    "cifar_10_class_names, cifar_100_class_names[:10]"
   ]
  },
  {
   "cell_type": "code",
   "execution_count": null,
   "metadata": {},
   "outputs": [],
   "source": [
    "display_single_image(temp_image.permute(1, 2, 0), cifar_10_class_names[temp_label])"
   ]
  },
  {
   "cell_type": "code",
   "execution_count": null,
   "metadata": {},
   "outputs": [],
   "source": [
    "display_random_images(cifar_10_train_dataset, cifar_10_class_names)"
   ]
  },
  {
   "cell_type": "code",
   "execution_count": null,
   "metadata": {},
   "outputs": [],
   "source": [
    "display_random_images(cifar_10_test_dataset, cifar_10_class_names)"
   ]
  },
  {
   "cell_type": "code",
   "execution_count": null,
   "metadata": {},
   "outputs": [],
   "source": [
    "display_random_images(cifar_100_train_dataset, cifar_100_class_names)"
   ]
  },
  {
   "cell_type": "code",
   "execution_count": null,
   "metadata": {},
   "outputs": [],
   "source": [
    "display_random_images(cifar_100_test_dataset, cifar_100_class_names)"
   ]
  },
  {
   "cell_type": "code",
   "execution_count": null,
   "metadata": {},
   "outputs": [],
   "source": [
    "cifar_10_train_dataloader = torch.utils.data.DataLoader(\n",
    "  cifar_10_train_dataset,\n",
    "  batch_size=BATCH_SIZE,\n",
    "  shuffle=True\n",
    ")\n",
    "\n",
    "cifar_10_test_dataloader = torch.utils.data.DataLoader(\n",
    "  cifar_10_test_dataset,\n",
    "  batch_size=BATCH_SIZE,\n",
    "  shuffle=True\n",
    ")\n",
    "\n",
    "cifar_100_train_dataloader = torch.utils.data.DataLoader(\n",
    "  cifar_100_train_dataset,\n",
    "  batch_size=BATCH_SIZE,\n",
    "  shuffle=True\n",
    ")\n",
    "\n",
    "cifar_100_test_dataloader = torch.utils.data.DataLoader(\n",
    "  cifar_100_test_dataset,\n",
    "  batch_size=BATCH_SIZE,\n",
    "  shuffle=True\n",
    ")\n",
    "\n",
    "print(f\"CIFAR10 train dataloader: {len(cifar_10_train_dataloader)} batches of {BATCH_SIZE}\")\n",
    "print(f\"CIFAR10 test dataloader: {len(cifar_10_test_dataloader)} batches of {BATCH_SIZE}\")\n",
    "print(f\"CIFAR100 train dataloader: {len(cifar_100_train_dataloader)} batches of {BATCH_SIZE}\")\n",
    "print(f\"CIFAR100 test dataloader: {len(cifar_100_test_dataloader)} batches of {BATCH_SIZE}\")"
   ]
  },
  {
   "cell_type": "code",
   "execution_count": null,
   "metadata": {},
   "outputs": [],
   "source": [
    "class ClassificationBaselineModel(nn.Module):\n",
    "  def __init__(self, input_shape: int, hidden_units: int, output_shape: int):\n",
    "    super().__init__()\n",
    "    self.layer_stack = nn.Sequential(\n",
    "      nn.Flatten(),\n",
    "      nn.Linear(in_features=input_shape, out_features=hidden_units),\n",
    "      nn.ReLU(),\n",
    "      nn.Linear(in_features=hidden_units, out_features=hidden_units),\n",
    "      nn.ReLU(),\n",
    "      nn.Linear(in_features=hidden_units, out_features=hidden_units),\n",
    "      nn.ReLU(),\n",
    "      nn.Linear(in_features=hidden_units, out_features=output_shape),\n",
    "      nn.ReLU(),\n",
    "    )\n",
    "\n",
    "  def forward(self, x: torch.Tensor) -> torch.Tensor:\n",
    "    return self.layer_stack(x)"
   ]
  },
  {
   "cell_type": "code",
   "execution_count": null,
   "metadata": {},
   "outputs": [],
   "source": [
    "layer = nn.Flatten()\n",
    "layer(temp_image).shape, np.prod(np.array(temp_image.shape))"
   ]
  },
  {
   "cell_type": "code",
   "execution_count": null,
   "metadata": {},
   "outputs": [],
   "source": [
    "baseline_model = ClassificationBaselineModel(input_shape=np.prod(np.array(temp_image.shape)), hidden_units=128, output_shape=len(cifar_10_class_names))\n",
    "\n",
    "baseline_model = baseline_model.to(device)\n",
    "\n",
    "baseline_model.state_dict()"
   ]
  },
  {
   "cell_type": "code",
   "execution_count": null,
   "metadata": {},
   "outputs": [],
   "source": [
    "loss_fn = nn.CrossEntropyLoss()\n",
    "optimizer = torch.optim.SGD(params=baseline_model.parameters(), lr=LR)"
   ]
  },
  {
   "cell_type": "code",
   "execution_count": null,
   "metadata": {},
   "outputs": [],
   "source": [
    "train_model(baseline_model, cifar_10_train_dataloader, cifar_10_test_dataloader, loss_fn, optimizer, len(cifar_10_class_names), device)"
   ]
  },
  {
   "cell_type": "code",
   "execution_count": null,
   "metadata": {},
   "outputs": [],
   "source": [
    "baseline_model_results = eval_model(baseline_model, cifar_10_test_dataloader, loss_fn, len(cifar_10_class_names), device)\n",
    "baseline_model_results"
   ]
  },
  {
   "cell_type": "code",
   "execution_count": null,
   "metadata": {},
   "outputs": [],
   "source": [
    "class TinyVGGModel(nn.Module):\n",
    "  def __init__(self, input_shape: int, hidden_units: int, output_shape: int):\n",
    "    super().__init__()\n",
    "    self.conv_block_1 = nn.Sequential(\n",
    "      nn.Conv2d(in_channels=input_shape, out_channels=hidden_units, kernel_size=(3, 3), stride=(1, 1), padding=(0, 0)),\n",
    "      nn.ReLU(),\n",
    "      nn.Conv2d(in_channels=hidden_units, out_channels=hidden_units, kernel_size=(3, 3), stride=(1, 1), padding=(0, 0)),\n",
    "      nn.ReLU(),\n",
    "      nn.MaxPool2d(kernel_size=(2, 2))\n",
    "    )\n",
    "    self.conv_block_2 = nn.Sequential(\n",
    "      nn.Conv2d(in_channels=hidden_units, out_channels=hidden_units, kernel_size=(3, 3), stride=(1, 1), padding=(0, 0)),\n",
    "      nn.ReLU(),\n",
    "      nn.Conv2d(in_channels=hidden_units, out_channels=hidden_units, kernel_size=(3, 3), stride=(1, 1), padding=(0, 0)),\n",
    "      nn.ReLU(),\n",
    "      nn.MaxPool2d(kernel_size=(2, 2))\n",
    "    )\n",
    "    self.classifier_layer = nn.Sequential(\n",
    "      nn.Flatten(),\n",
    "      nn.Linear(in_features=hidden_units*5*5, out_features=output_shape)\n",
    "    )\n",
    "\n",
    "  def forward(self, x: torch.Tensor) -> torch.Tensor:\n",
    "    x = self.conv_block_1(x)\n",
    "    x = self.conv_block_2(x)\n",
    "    return self.classifier_layer(x)"
   ]
  },
  {
   "cell_type": "code",
   "execution_count": null,
   "metadata": {},
   "outputs": [],
   "source": [
    "model = TinyVGGModel(input_shape=3, hidden_units=10, output_shape=len(cifar_10_class_names))\n",
    "\n",
    "model = model.to(device)"
   ]
  },
  {
   "cell_type": "code",
   "execution_count": null,
   "metadata": {},
   "outputs": [],
   "source": [
    "loss_fn = nn.CrossEntropyLoss()\n",
    "optimizer = torch.optim.Adam(params=model.parameters(), lr=1e-2)"
   ]
  },
  {
   "cell_type": "code",
   "execution_count": null,
   "metadata": {},
   "outputs": [],
   "source": [
    "train_model(baseline_model, cifar_10_train_dataloader, cifar_10_test_dataloader, loss_fn, optimizer, len(cifar_10_class_names), device)"
   ]
  },
  {
   "cell_type": "code",
   "execution_count": null,
   "metadata": {},
   "outputs": [],
   "source": [
    "model_results = eval_model(model, cifar_10_test_dataloader, loss_fn, len(cifar_10_class_names), device)\n",
    "model_results"
   ]
  }
 ],
 "metadata": {
  "kernelspec": {
   "display_name": "Python 3",
   "language": "python",
   "name": "python3"
  },
  "language_info": {
   "codemirror_mode": {
    "name": "ipython",
    "version": 3
   },
   "file_extension": ".py",
   "mimetype": "text/x-python",
   "name": "python",
   "nbconvert_exporter": "python",
   "pygments_lexer": "ipython3",
   "version": "3.10.2"
  },
  "orig_nbformat": 4
 },
 "nbformat": 4,
 "nbformat_minor": 2
}
